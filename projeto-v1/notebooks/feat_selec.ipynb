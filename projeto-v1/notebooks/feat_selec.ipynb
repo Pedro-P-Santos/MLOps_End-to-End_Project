{
 "cells": [
  {
   "cell_type": "code",
   "execution_count": 1,
   "id": "e4b11c4d",
   "metadata": {},
   "outputs": [],
   "source": [
    "import pandas as pd\n",
    "import plotly.express as px\n",
    "import plotly.figure_factory as ff\n",
    "import seaborn as sns\n",
    "import matplotlib.pyplot as plt\n",
    "from scipy.stats import chi2_contingency\n",
    "import logging\n",
    "from typing import Dict, Any, List\n",
    "import pandas as pd\n",
    "from sklearn.feature_selection import RFE\n",
    "from sklearn.ensemble import RandomForestClassifier\n",
    "from sklearn.metrics import f1_score\n",
    "import numpy as np\n",
    "from sklearn.model_selection import train_test_split\n"
   ]
  },
  {
   "cell_type": "code",
   "execution_count": 2,
   "id": "76254f82",
   "metadata": {},
   "outputs": [],
   "source": [
    "df = pd.read_csv(\"../data/01_raw/bank-additional-full.csv\", sep=\";\")"
   ]
  },
  {
   "cell_type": "markdown",
   "id": "e9dc3bcc",
   "metadata": {},
   "source": [
    "<hr>\n",
    "<hr>"
   ]
  },
  {
   "cell_type": "markdown",
   "id": "ec81d3c2",
   "metadata": {},
   "source": [
    "# RFE"
   ]
  },
  {
   "cell_type": "code",
   "execution_count": 3,
   "id": "9eba6b79",
   "metadata": {},
   "outputs": [],
   "source": [
    "X_train_preprocessed = pd.read_csv(\"../data/03_primary/X_train_preprocessed.csv\")\n",
    "y_train_encoded = pd.read_csv(\"../data/03_primary/y_train_encoded.csv\")"
   ]
  },
  {
   "cell_type": "code",
   "execution_count": 4,
   "id": "e6d6dc8d",
   "metadata": {},
   "outputs": [
    {
     "data": {
      "text/plain": [
       "Index(['age', 'campaign', 'pdays', 'previous', 'emp.var.rate',\n",
       "       'cons.price.idx', 'cons.conf.idx', 'euribor3m', 'nr.employed',\n",
       "       'emp_rate_x_employed', 'loan_risk_score', 'economic_pressure_index',\n",
       "       'default', 'housing', 'loan', 'cpi_above_75th', 'cci_above_75th',\n",
       "       'young_housing_loan', 'middle_aged_housing_loan', 'senior_housing_loan',\n",
       "       'young_loan', 'middle_aged_loan', 'senior_loan', 'contacted_before',\n",
       "       'is_student_or_retired', 'successful_prev_contact', 'has_any_loan',\n",
       "       'job', 'education', 'campaign_bin', 'cci_top_value',\n",
       "       'marital_edu_combo', 'marital_divorced', 'marital_married',\n",
       "       'marital_single', 'marital_unknown', 'poutcome_failure',\n",
       "       'poutcome_nonexistent', 'poutcome_success', 'age_binned_quantile_0.0',\n",
       "       'age_binned_quantile_1.0', 'age_binned_quantile_2.0',\n",
       "       'age_binned_quantile_3.0', 'age_binned_quantile_4.0', 'previous_bin_0',\n",
       "       'previous_bin_1', 'previous_bin_2', 'previous_bin_3',\n",
       "       'cpi_top_value_92.893', 'cpi_top_value_93.918', 'cpi_top_value_93.994',\n",
       "       'cpi_top_value_other', 'euribor_bin_high', 'euribor_bin_low',\n",
       "       'euribor_bin_very_high', 'euribor_bin_very_low',\n",
       "       'education_mapped_basic_education', 'education_mapped_high_school',\n",
       "       'education_mapped_higher_education', 'education_mapped_low_or_unknown'],\n",
       "      dtype='object')"
      ]
     },
     "execution_count": 4,
     "metadata": {},
     "output_type": "execute_result"
    }
   ],
   "source": [
    "X_train_preprocessed.columns"
   ]
  },
  {
   "cell_type": "code",
   "execution_count": 5,
   "id": "90b75779",
   "metadata": {},
   "outputs": [
    {
     "data": {
      "text/plain": [
       "60"
      ]
     },
     "execution_count": 5,
     "metadata": {},
     "output_type": "execute_result"
    }
   ],
   "source": [
    "len(X_train_preprocessed.columns)"
   ]
  },
  {
   "cell_type": "code",
   "execution_count": null,
   "id": "93df1f79",
   "metadata": {},
   "outputs": [],
   "source": [
    "params = {\n",
    "    \"model_params\": {\n",
    "        \"n_estimators\": 50,       # Menor para ser rápido (aumentar se necessário)\n",
    "        \"max_depth\": [3, 4, 5],   # Menos profundidades para testar\n",
    "        \"learning_rate\": 0.1,\n",
    "        \"random_state\": 42,\n",
    "        \"n_jobs\": -1,\n",
    "        \"use_label_encoder\": False,\n",
    "        \"eval_metric\": \"mlogloss\"\n",
    "    },\n",
    "    \"n_features\": [10, 14, 18]    # Menos valores para ser rápido\n",
    "}\n"
   ]
  },
  {
   "cell_type": "code",
   "execution_count": 15,
   "id": "3e63de9b",
   "metadata": {},
   "outputs": [
    {
     "name": "stdout",
     "output_type": "stream",
     "text": [
      "\n",
      "A testar 1 features...\n",
      "Train F1: 0.6033, Val F1: 0.5883, Gap: 0.0150\n",
      "✅ Novo melhor modelo com 1 features: ['nr.employed']\n",
      "\n",
      "A testar 2 features...\n",
      "Train F1: 0.7546, Val F1: 0.7453, Gap: 0.0093\n",
      "✅ Novo melhor modelo com 2 features: ['duration', 'nr.employed']\n",
      "\n",
      "A testar 3 features...\n",
      "Train F1: 0.7580, Val F1: 0.7439, Gap: 0.0142\n",
      "\n",
      "A testar 4 features...\n",
      "Train F1: 0.7633, Val F1: 0.7487, Gap: 0.0146\n",
      "✅ Novo melhor modelo com 4 features: ['duration', 'emp.var.rate', 'nr.employed', 'month']\n",
      "\n",
      "A testar 5 features...\n",
      "Train F1: 0.7753, Val F1: 0.7622, Gap: 0.0130\n",
      "✅ Novo melhor modelo com 5 features: ['duration', 'emp.var.rate', 'euribor3m', 'nr.employed', 'month']\n",
      "\n",
      "A testar 6 features...\n",
      "Train F1: 0.7777, Val F1: 0.7669, Gap: 0.0107\n",
      "✅ Novo melhor modelo com 6 features: ['duration', 'pdays', 'emp.var.rate', 'euribor3m', 'nr.employed', 'month']\n",
      "\n",
      "A testar 7 features...\n",
      "Train F1: 0.7796, Val F1: 0.7668, Gap: 0.0128\n",
      "\n",
      "A testar 8 features...\n",
      "Train F1: 0.7768, Val F1: 0.7661, Gap: 0.0107\n",
      "\n",
      "A testar 9 features...\n",
      "Train F1: 0.7774, Val F1: 0.7628, Gap: 0.0146\n",
      "\n",
      "A testar 10 features...\n",
      "Train F1: 0.7814, Val F1: 0.7695, Gap: 0.0119\n",
      "✅ Novo melhor modelo com 10 features: ['duration', 'pdays', 'emp.var.rate', 'cons.conf.idx', 'euribor3m', 'nr.employed', 'successful_prev_contact', 'month', 'cpi_top_value_93.994', 'cpi_top_value_other']\n",
      "\n",
      "A testar 11 features...\n",
      "Train F1: 0.7793, Val F1: 0.7656, Gap: 0.0137\n",
      "\n",
      "A testar 12 features...\n",
      "Train F1: 0.7784, Val F1: 0.7700, Gap: 0.0084\n",
      "✅ Novo melhor modelo com 12 features: ['duration', 'pdays', 'emp.var.rate', 'cons.price.idx', 'cons.conf.idx', 'euribor3m', 'nr.employed', 'default', 'successful_prev_contact', 'month', 'cpi_top_value_93.994', 'cpi_top_value_other']\n",
      "\n",
      "A testar 13 features...\n",
      "Train F1: 0.7779, Val F1: 0.7676, Gap: 0.0103\n",
      "\n",
      "A testar 14 features...\n",
      "Train F1: 0.7808, Val F1: 0.7649, Gap: 0.0159\n",
      "\n",
      "A testar 15 features...\n",
      "Train F1: 0.7814, Val F1: 0.7670, Gap: 0.0144\n",
      "\n",
      "A testar 16 features...\n",
      "Train F1: 0.7821, Val F1: 0.7675, Gap: 0.0145\n",
      "\n",
      "A testar 17 features...\n",
      "Train F1: 0.7827, Val F1: 0.7665, Gap: 0.0162\n",
      "\n",
      "A testar 18 features...\n",
      "Train F1: 0.7838, Val F1: 0.7642, Gap: 0.0196\n",
      "\n",
      "A testar 19 features...\n",
      "Train F1: 0.7831, Val F1: 0.7652, Gap: 0.0179\n",
      "\n",
      "A testar 20 features...\n",
      "Train F1: 0.7824, Val F1: 0.7669, Gap: 0.0156\n",
      "\n",
      "A testar 21 features...\n",
      "Train F1: 0.7821, Val F1: 0.7663, Gap: 0.0158\n",
      "\n",
      "A testar 22 features...\n",
      "Train F1: 0.7821, Val F1: 0.7663, Gap: 0.0158\n",
      "\n",
      "A testar 23 features...\n",
      "Train F1: 0.7836, Val F1: 0.7680, Gap: 0.0155\n",
      "\n",
      "A testar 24 features...\n",
      "Train F1: 0.7830, Val F1: 0.7657, Gap: 0.0173\n",
      "\n",
      "A testar 25 features...\n",
      "Train F1: 0.7817, Val F1: 0.7678, Gap: 0.0140\n",
      "\n",
      "A testar 26 features...\n",
      "Train F1: 0.7810, Val F1: 0.7642, Gap: 0.0168\n",
      "\n",
      "A testar 27 features...\n",
      "Train F1: 0.7817, Val F1: 0.7680, Gap: 0.0137\n",
      "\n",
      "A testar 28 features...\n",
      "Train F1: 0.7830, Val F1: 0.7723, Gap: 0.0107\n",
      "✅ Novo melhor modelo com 28 features: ['duration', 'pdays', 'previous', 'emp.var.rate', 'cons.price.idx', 'cons.conf.idx', 'euribor3m', 'nr.employed', 'contact_month_num', 'contact_efficiency', 'economic_pressure_index', 'default', 'senior_housing_loan', 'is_summer_contact', 'successful_prev_contact', 'education', 'month', 'cci_top_value', 'contact_cellular', 'day_of_week_mon', 'day_of_week_tue', 'poutcome_failure', 'age_binned_quantile_3.0', 'previous_bin_1', 'cpi_top_value_92.893', 'cpi_top_value_93.994', 'cpi_top_value_other', 'euribor_bin_low']\n",
      "\n",
      "A testar 29 features...\n",
      "Train F1: 0.7817, Val F1: 0.7690, Gap: 0.0127\n",
      "\n",
      "A testar 30 features...\n",
      "Train F1: 0.7820, Val F1: 0.7684, Gap: 0.0135\n",
      "\n",
      "A testar 31 features...\n",
      "Train F1: 0.7815, Val F1: 0.7695, Gap: 0.0120\n",
      "\n",
      "A testar 32 features...\n",
      "Train F1: 0.7808, Val F1: 0.7693, Gap: 0.0116\n",
      "\n",
      "A testar 33 features...\n",
      "Train F1: 0.7808, Val F1: 0.7693, Gap: 0.0116\n",
      "\n",
      "A testar 34 features...\n",
      "Train F1: 0.7826, Val F1: 0.7655, Gap: 0.0171\n",
      "\n",
      "A testar 35 features...\n",
      "Train F1: 0.7835, Val F1: 0.7679, Gap: 0.0157\n",
      "\n",
      "A testar 36 features...\n",
      "Train F1: 0.7838, Val F1: 0.7679, Gap: 0.0159\n",
      "\n",
      "A testar 37 features...\n",
      "Train F1: 0.7842, Val F1: 0.7670, Gap: 0.0172\n",
      "\n",
      "A testar 38 features...\n",
      "Train F1: 0.7836, Val F1: 0.7676, Gap: 0.0160\n",
      "\n",
      "A testar 39 features...\n",
      "Train F1: 0.7812, Val F1: 0.7653, Gap: 0.0160\n",
      "\n",
      "A testar 40 features...\n",
      "Train F1: 0.7812, Val F1: 0.7653, Gap: 0.0160\n",
      "\n",
      "A testar 41 features...\n",
      "Train F1: 0.7825, Val F1: 0.7666, Gap: 0.0159\n",
      "\n",
      "A testar 42 features...\n",
      "Train F1: 0.7820, Val F1: 0.7684, Gap: 0.0136\n",
      "\n",
      "A testar 43 features...\n",
      "Train F1: 0.7820, Val F1: 0.7684, Gap: 0.0136\n",
      "\n",
      "A testar 44 features...\n",
      "Train F1: 0.7820, Val F1: 0.7684, Gap: 0.0136\n",
      "\n",
      "A testar 45 features...\n",
      "Train F1: 0.7820, Val F1: 0.7684, Gap: 0.0136\n",
      "\n",
      "A testar 46 features...\n",
      "Train F1: 0.7820, Val F1: 0.7684, Gap: 0.0136\n",
      "\n",
      "A testar 47 features...\n",
      "Train F1: 0.7820, Val F1: 0.7684, Gap: 0.0136\n",
      "\n",
      "A testar 48 features...\n",
      "Train F1: 0.7820, Val F1: 0.7684, Gap: 0.0136\n",
      "\n",
      "A testar 49 features...\n",
      "Train F1: 0.7820, Val F1: 0.7684, Gap: 0.0136\n",
      "\n",
      "A testar 50 features...\n",
      "Train F1: 0.7820, Val F1: 0.7684, Gap: 0.0136\n",
      "\n",
      "A testar 51 features...\n",
      "Train F1: 0.7820, Val F1: 0.7684, Gap: 0.0136\n",
      "\n",
      "A testar 52 features...\n",
      "Train F1: 0.7820, Val F1: 0.7684, Gap: 0.0136\n",
      "\n",
      "A testar 53 features...\n",
      "Train F1: 0.7820, Val F1: 0.7684, Gap: 0.0136\n",
      "\n",
      "A testar 54 features...\n",
      "Train F1: 0.7820, Val F1: 0.7684, Gap: 0.0136\n",
      "\n",
      "A testar 55 features...\n",
      "Train F1: 0.7820, Val F1: 0.7684, Gap: 0.0136\n",
      "\n",
      "A testar 56 features...\n",
      "Train F1: 0.7820, Val F1: 0.7684, Gap: 0.0136\n",
      "\n",
      "A testar 57 features...\n",
      "Train F1: 0.7820, Val F1: 0.7684, Gap: 0.0136\n",
      "\n",
      "A testar 58 features...\n",
      "Train F1: 0.7820, Val F1: 0.7684, Gap: 0.0136\n",
      "\n",
      "A testar 59 features...\n",
      "Train F1: 0.7820, Val F1: 0.7684, Gap: 0.0136\n",
      "\n",
      "A testar 60 features...\n",
      "Train F1: 0.7820, Val F1: 0.7684, Gap: 0.0136\n",
      "\n",
      "A testar 61 features...\n",
      "Train F1: 0.7820, Val F1: 0.7684, Gap: 0.0136\n",
      "\n",
      "A testar 62 features...\n",
      "Train F1: 0.7820, Val F1: 0.7684, Gap: 0.0136\n",
      "\n",
      "A testar 63 features...\n",
      "Train F1: 0.7820, Val F1: 0.7684, Gap: 0.0136\n",
      "\n",
      "A testar 64 features...\n",
      "Train F1: 0.7820, Val F1: 0.7684, Gap: 0.0136\n",
      "\n",
      "A testar 65 features...\n",
      "Train F1: 0.7820, Val F1: 0.7684, Gap: 0.0136\n",
      "\n",
      "A testar 66 features...\n",
      "Train F1: 0.7820, Val F1: 0.7684, Gap: 0.0136\n",
      "\n",
      "A testar 67 features...\n",
      "Train F1: 0.7820, Val F1: 0.7684, Gap: 0.0136\n",
      "\n",
      "A testar 68 features...\n",
      "Train F1: 0.7820, Val F1: 0.7684, Gap: 0.0136\n",
      "\n",
      "A testar 69 features...\n",
      "Train F1: 0.7820, Val F1: 0.7684, Gap: 0.0136\n",
      "\n",
      "A testar 70 features...\n",
      "Train F1: 0.7820, Val F1: 0.7684, Gap: 0.0136\n",
      "\n",
      "A testar 71 features...\n",
      "Train F1: 0.7820, Val F1: 0.7684, Gap: 0.0136\n",
      "\n",
      "A testar 72 features...\n",
      "Train F1: 0.7820, Val F1: 0.7684, Gap: 0.0136\n",
      "\n",
      "A testar 73 features...\n",
      "Train F1: 0.7820, Val F1: 0.7684, Gap: 0.0136\n",
      "\n",
      "A testar 74 features...\n",
      "Train F1: 0.7820, Val F1: 0.7684, Gap: 0.0136\n",
      "\n",
      "A testar 75 features...\n",
      "Train F1: 0.7820, Val F1: 0.7684, Gap: 0.0136\n",
      "\n",
      "A testar 76 features...\n",
      "Train F1: 0.7820, Val F1: 0.7684, Gap: 0.0136\n",
      "\n",
      "A testar 77 features...\n",
      "Train F1: 0.7820, Val F1: 0.7684, Gap: 0.0136\n",
      "\n",
      "A testar 78 features...\n",
      "Train F1: 0.7820, Val F1: 0.7684, Gap: 0.0136\n",
      "\n",
      "🎯 Melhor conjunto: ['duration', 'pdays', 'previous', 'emp.var.rate', 'cons.price.idx', 'cons.conf.idx', 'euribor3m', 'nr.employed', 'contact_month_num', 'contact_efficiency', 'economic_pressure_index', 'default', 'senior_housing_loan', 'is_summer_contact', 'successful_prev_contact', 'education', 'month', 'cci_top_value', 'contact_cellular', 'day_of_week_mon', 'day_of_week_tue', 'poutcome_failure', 'age_binned_quantile_3.0', 'previous_bin_1', 'cpi_top_value_92.893', 'cpi_top_value_93.994', 'cpi_top_value_other', 'euribor_bin_low']\n",
      "⭐️ Número ideal de features: 28\n",
      "⭐️ Melhor F1 de validação: 0.7723\n"
     ]
    }
   ],
   "source": [
    "from xgboost import XGBClassifier\n",
    "from sklearn.feature_selection import RFE\n",
    "from sklearn.metrics import f1_score\n",
    "from sklearn.model_selection import train_test_split\n",
    "import numpy as np\n",
    "from typing import List\n",
    "\n",
    "def feature_selection_rfe_all(X, y, model_params: dict) -> List[str]:\n",
    "    best_score = 0.0\n",
    "    best_features = []\n",
    "    best_n_features = 0\n",
    "    y = np.ravel(y)\n",
    "    \n",
    "    # Dividir treino e validação\n",
    "    X_train_split, X_val_split, y_train_split, y_val_split = train_test_split(\n",
    "        X, y, test_size=0.2, random_state=42, stratify=y\n",
    "    )\n",
    "    \n",
    "    total_features = X.shape[1]\n",
    "    feature_names = X.columns\n",
    "\n",
    "    for n in range(1, total_features + 1):\n",
    "        print(f\"\\nA testar {n} features...\")\n",
    "        base_model = XGBClassifier(**model_params, verbosity=0)\n",
    "        rfe = RFE(estimator=base_model, n_features_to_select=n, step=0.2)\n",
    "        rfe.fit(X_train_split, y_train_split)\n",
    "        selected_features = feature_names[rfe.support_].tolist()\n",
    "\n",
    "        model = XGBClassifier(**model_params, verbosity=0)\n",
    "        model.fit(X_train_split[selected_features], y_train_split)\n",
    "\n",
    "        y_train_pred = model.predict(X_train_split[selected_features])\n",
    "        y_val_pred = model.predict(X_val_split[selected_features])\n",
    "\n",
    "        train_f1 = f1_score(y_train_split, y_train_pred, average=\"macro\")\n",
    "        val_f1 = f1_score(y_val_split, y_val_pred, average=\"macro\")\n",
    "        gap = abs(train_f1 - val_f1)\n",
    "\n",
    "        print(f\"Train F1: {train_f1:.4f}, Val F1: {val_f1:.4f}, Gap: {gap:.4f}\")\n",
    "\n",
    "        if val_f1 > best_score:\n",
    "            best_score = val_f1\n",
    "            best_features = selected_features\n",
    "            best_n_features = n\n",
    "            print(f\"✅ Novo melhor modelo com {n} features: {best_features}\")\n",
    "\n",
    "    print(f\"\\n🎯 Melhor conjunto: {best_features}\")\n",
    "    print(f\"⭐️ Número ideal de features: {best_n_features}\")\n",
    "    print(f\"⭐️ Melhor F1 de validação: {best_score:.4f}\")\n",
    "    return best_features\n",
    "\n",
    "# Exemplo de uso:\n",
    "model_params = {\n",
    "    \"n_estimators\": 50,\n",
    "    \"max_depth\": 4,\n",
    "    \"learning_rate\": 0.1,\n",
    "    \"random_state\": 42,\n",
    "    \"n_jobs\": -1,\n",
    "    \"use_label_encoder\": False,\n",
    "    \"eval_metric\": \"mlogloss\"\n",
    "}\n",
    "\n",
    "best_features = feature_selection_rfe_all(X_train_preprocessed, y_train_encoded, model_params)\n",
    "\n"
   ]
  },
  {
   "cell_type": "code",
   "execution_count": null,
   "id": "d43b545b",
   "metadata": {},
   "outputs": [],
   "source": []
  },
  {
   "cell_type": "code",
   "execution_count": null,
   "id": "7c30e12d",
   "metadata": {},
   "outputs": [],
   "source": []
  },
  {
   "cell_type": "code",
   "execution_count": 6,
   "id": "7c5df08e",
   "metadata": {},
   "outputs": [],
   "source": [
    "params = {\n",
    "    \"model_params\": {\n",
    "        \"n_estimators\": 500,\n",
    "        \"max_depth\": [5,6,7,8],\n",
    "        \"random_state\": 42,\n",
    "        \"n_jobs\": -1\n",
    "    },\n",
    "    \"n_features\": [14,16,18, 20,24,28,32,36]\n",
    "}"
   ]
  },
  {
   "cell_type": "code",
   "execution_count": 7,
   "id": "93175d79",
   "metadata": {},
   "outputs": [],
   "source": [
    "def feature_selection_rfe(X: pd.DataFrame, y: pd.Series, params: Dict) -> List[str]:\n",
    "    logger = logging.getLogger(__name__)\n",
    "\n",
    "    model_params = params[\"model_params\"]\n",
    "    n_features_list = params[\"n_features\"]\n",
    "\n",
    "    # Normalize max_depth to a list\n",
    "    max_depth_list = model_params[\"max_depth\"]\n",
    "    if isinstance(max_depth_list, int) or max_depth_list is None:\n",
    "        max_depth_list = [max_depth_list]\n",
    "\n",
    "    best_score = 0.0\n",
    "    best_features = []\n",
    "\n",
    "    y = np.ravel(y)\n",
    "\n",
    "    # Validation split within training data\n",
    "    X_train_split, X_val_split, y_train_split, y_val_split = train_test_split(\n",
    "        X, y, test_size=0.2, random_state=42, stratify=y\n",
    "    )\n",
    "\n",
    "    for n in n_features_list:\n",
    "        for d in max_depth_list:\n",
    "            logger.info(f\"📌 Evaluating RFE with top {n} features and max_depth={d}...\")\n",
    "            model_params[\"max_depth\"] = d\n",
    "\n",
    "            base_model = RandomForestClassifier(**model_params)\n",
    "            rfe = RFE(estimator=base_model, n_features_to_select=n)\n",
    "            rfe.fit(X_train_split, y_train_split)\n",
    "\n",
    "            selected_features = X.columns[rfe.support_].tolist()\n",
    "            logger.info(f\"🔍 Selected features: {selected_features}\")\n",
    "\n",
    "            # Retrain model only on selected features\n",
    "            model = RandomForestClassifier(**model_params)\n",
    "            model.fit(X_train_split[selected_features], y_train_split)\n",
    "\n",
    "            y_train_pred = model.predict(X_train_split[selected_features])\n",
    "            y_val_pred = model.predict(X_val_split[selected_features])\n",
    "\n",
    "            train_f1 = f1_score(y_train_split, y_train_pred, average=\"macro\")\n",
    "            val_f1 = f1_score(y_val_split, y_val_pred, average=\"macro\")\n",
    "            gap_check = abs(train_f1 - val_f1)\n",
    "\n",
    "            print(f\"Max Depth: {d}, Features: {n}\")\n",
    "            print(f\"Train F1 (macro): {train_f1:.4f}\")\n",
    "            print(f\"Validation F1 (macro): {val_f1:.4f}\")   \n",
    "            print(f\"Gap (train - val): {gap_check:.4f}\")\n",
    "            logger.info(f\"Train f1_macro: {train_f1:.4f} | Val f1_macro: {val_f1:.4f} | 🔍 Gap: {gap_check:.4f}\")\n",
    "\n",
    "            if val_f1 > best_score:\n",
    "                best_score = val_f1\n",
    "                best_features = selected_features\n",
    "                logger.info(f\"✅ New best model with {n} features selected\")\n",
    "\n",
    "    logger.info(f\"🎯 Best val f1_macro: {best_score:.4f} with {len(best_features)} features\")\n",
    "    return best_features\n"
   ]
  },
  {
   "cell_type": "code",
   "execution_count": null,
   "id": "1fee1693",
   "metadata": {},
   "outputs": [
    {
     "ename": "KeyboardInterrupt",
     "evalue": "",
     "output_type": "error",
     "traceback": [
      "\u001b[1;31m---------------------------------------------------------------------------\u001b[0m",
      "\u001b[1;31mKeyboardInterrupt\u001b[0m                         Traceback (most recent call last)",
      "Cell \u001b[1;32mIn[8], line 1\u001b[0m\n\u001b[1;32m----> 1\u001b[0m best_features \u001b[38;5;241m=\u001b[39m feature_selection_rfe(X_train_preprocessed, y_train_encoded, params)\n\u001b[0;32m      2\u001b[0m \u001b[38;5;28mprint\u001b[39m(\u001b[38;5;124m\"\u001b[39m\u001b[38;5;124m🎯 Selected Features:\u001b[39m\u001b[38;5;124m\"\u001b[39m, best_features)\n",
      "Cell \u001b[1;32mIn[7], line 29\u001b[0m, in \u001b[0;36mfeature_selection_rfe\u001b[1;34m(X, y, params)\u001b[0m\n\u001b[0;32m     27\u001b[0m base_model \u001b[38;5;241m=\u001b[39m RandomForestClassifier(\u001b[38;5;241m*\u001b[39m\u001b[38;5;241m*\u001b[39mmodel_params)\n\u001b[0;32m     28\u001b[0m rfe \u001b[38;5;241m=\u001b[39m RFE(estimator\u001b[38;5;241m=\u001b[39mbase_model, n_features_to_select\u001b[38;5;241m=\u001b[39mn)\n\u001b[1;32m---> 29\u001b[0m rfe\u001b[38;5;241m.\u001b[39mfit(X_train_split, y_train_split)\n\u001b[0;32m     31\u001b[0m selected_features \u001b[38;5;241m=\u001b[39m X\u001b[38;5;241m.\u001b[39mcolumns[rfe\u001b[38;5;241m.\u001b[39msupport_]\u001b[38;5;241m.\u001b[39mtolist()\n\u001b[0;32m     32\u001b[0m logger\u001b[38;5;241m.\u001b[39minfo(\u001b[38;5;124mf\u001b[39m\u001b[38;5;124m\"\u001b[39m\u001b[38;5;124m🔍 Selected features: \u001b[39m\u001b[38;5;132;01m{\u001b[39;00mselected_features\u001b[38;5;132;01m}\u001b[39;00m\u001b[38;5;124m\"\u001b[39m)\n",
      "File \u001b[1;32mc:\\Users\\rodri\\anaconda3\\Lib\\site-packages\\sklearn\\base.py:1473\u001b[0m, in \u001b[0;36m_fit_context.<locals>.decorator.<locals>.wrapper\u001b[1;34m(estimator, *args, **kwargs)\u001b[0m\n\u001b[0;32m   1466\u001b[0m     estimator\u001b[38;5;241m.\u001b[39m_validate_params()\n\u001b[0;32m   1468\u001b[0m \u001b[38;5;28;01mwith\u001b[39;00m config_context(\n\u001b[0;32m   1469\u001b[0m     skip_parameter_validation\u001b[38;5;241m=\u001b[39m(\n\u001b[0;32m   1470\u001b[0m         prefer_skip_nested_validation \u001b[38;5;129;01mor\u001b[39;00m global_skip_validation\n\u001b[0;32m   1471\u001b[0m     )\n\u001b[0;32m   1472\u001b[0m ):\n\u001b[1;32m-> 1473\u001b[0m     \u001b[38;5;28;01mreturn\u001b[39;00m fit_method(estimator, \u001b[38;5;241m*\u001b[39margs, \u001b[38;5;241m*\u001b[39m\u001b[38;5;241m*\u001b[39mkwargs)\n",
      "File \u001b[1;32mc:\\Users\\rodri\\anaconda3\\Lib\\site-packages\\sklearn\\feature_selection\\_rfe.py:268\u001b[0m, in \u001b[0;36mRFE.fit\u001b[1;34m(self, X, y, **fit_params)\u001b[0m\n\u001b[0;32m    248\u001b[0m \u001b[38;5;250m\u001b[39m\u001b[38;5;124;03m\"\"\"Fit the RFE model and then the underlying estimator on the selected features.\u001b[39;00m\n\u001b[0;32m    249\u001b[0m \n\u001b[0;32m    250\u001b[0m \u001b[38;5;124;03mParameters\u001b[39;00m\n\u001b[1;32m   (...)\u001b[0m\n\u001b[0;32m    265\u001b[0m \u001b[38;5;124;03m    Fitted estimator.\u001b[39;00m\n\u001b[0;32m    266\u001b[0m \u001b[38;5;124;03m\"\"\"\u001b[39;00m\n\u001b[0;32m    267\u001b[0m _raise_for_unsupported_routing(\u001b[38;5;28mself\u001b[39m, \u001b[38;5;124m\"\u001b[39m\u001b[38;5;124mfit\u001b[39m\u001b[38;5;124m\"\u001b[39m, \u001b[38;5;241m*\u001b[39m\u001b[38;5;241m*\u001b[39mfit_params)\n\u001b[1;32m--> 268\u001b[0m \u001b[38;5;28;01mreturn\u001b[39;00m \u001b[38;5;28mself\u001b[39m\u001b[38;5;241m.\u001b[39m_fit(X, y, \u001b[38;5;241m*\u001b[39m\u001b[38;5;241m*\u001b[39mfit_params)\n",
      "File \u001b[1;32mc:\\Users\\rodri\\anaconda3\\Lib\\site-packages\\sklearn\\feature_selection\\_rfe.py:323\u001b[0m, in \u001b[0;36mRFE._fit\u001b[1;34m(self, X, y, step_score, **fit_params)\u001b[0m\n\u001b[0;32m    320\u001b[0m \u001b[38;5;28;01mif\u001b[39;00m \u001b[38;5;28mself\u001b[39m\u001b[38;5;241m.\u001b[39mverbose \u001b[38;5;241m>\u001b[39m \u001b[38;5;241m0\u001b[39m:\n\u001b[0;32m    321\u001b[0m     \u001b[38;5;28mprint\u001b[39m(\u001b[38;5;124m\"\u001b[39m\u001b[38;5;124mFitting estimator with \u001b[39m\u001b[38;5;132;01m%d\u001b[39;00m\u001b[38;5;124m features.\u001b[39m\u001b[38;5;124m\"\u001b[39m \u001b[38;5;241m%\u001b[39m np\u001b[38;5;241m.\u001b[39msum(support_))\n\u001b[1;32m--> 323\u001b[0m estimator\u001b[38;5;241m.\u001b[39mfit(X[:, features], y, \u001b[38;5;241m*\u001b[39m\u001b[38;5;241m*\u001b[39mfit_params)\n\u001b[0;32m    325\u001b[0m \u001b[38;5;66;03m# Get importance and rank them\u001b[39;00m\n\u001b[0;32m    326\u001b[0m importances \u001b[38;5;241m=\u001b[39m _get_feature_importances(\n\u001b[0;32m    327\u001b[0m     estimator,\n\u001b[0;32m    328\u001b[0m     \u001b[38;5;28mself\u001b[39m\u001b[38;5;241m.\u001b[39mimportance_getter,\n\u001b[0;32m    329\u001b[0m     transform_func\u001b[38;5;241m=\u001b[39m\u001b[38;5;124m\"\u001b[39m\u001b[38;5;124msquare\u001b[39m\u001b[38;5;124m\"\u001b[39m,\n\u001b[0;32m    330\u001b[0m )\n",
      "File \u001b[1;32mc:\\Users\\rodri\\anaconda3\\Lib\\site-packages\\sklearn\\base.py:1473\u001b[0m, in \u001b[0;36m_fit_context.<locals>.decorator.<locals>.wrapper\u001b[1;34m(estimator, *args, **kwargs)\u001b[0m\n\u001b[0;32m   1466\u001b[0m     estimator\u001b[38;5;241m.\u001b[39m_validate_params()\n\u001b[0;32m   1468\u001b[0m \u001b[38;5;28;01mwith\u001b[39;00m config_context(\n\u001b[0;32m   1469\u001b[0m     skip_parameter_validation\u001b[38;5;241m=\u001b[39m(\n\u001b[0;32m   1470\u001b[0m         prefer_skip_nested_validation \u001b[38;5;129;01mor\u001b[39;00m global_skip_validation\n\u001b[0;32m   1471\u001b[0m     )\n\u001b[0;32m   1472\u001b[0m ):\n\u001b[1;32m-> 1473\u001b[0m     \u001b[38;5;28;01mreturn\u001b[39;00m fit_method(estimator, \u001b[38;5;241m*\u001b[39margs, \u001b[38;5;241m*\u001b[39m\u001b[38;5;241m*\u001b[39mkwargs)\n",
      "File \u001b[1;32mc:\\Users\\rodri\\anaconda3\\Lib\\site-packages\\sklearn\\ensemble\\_forest.py:489\u001b[0m, in \u001b[0;36mBaseForest.fit\u001b[1;34m(self, X, y, sample_weight)\u001b[0m\n\u001b[0;32m    478\u001b[0m trees \u001b[38;5;241m=\u001b[39m [\n\u001b[0;32m    479\u001b[0m     \u001b[38;5;28mself\u001b[39m\u001b[38;5;241m.\u001b[39m_make_estimator(append\u001b[38;5;241m=\u001b[39m\u001b[38;5;28;01mFalse\u001b[39;00m, random_state\u001b[38;5;241m=\u001b[39mrandom_state)\n\u001b[0;32m    480\u001b[0m     \u001b[38;5;28;01mfor\u001b[39;00m i \u001b[38;5;129;01min\u001b[39;00m \u001b[38;5;28mrange\u001b[39m(n_more_estimators)\n\u001b[0;32m    481\u001b[0m ]\n\u001b[0;32m    483\u001b[0m \u001b[38;5;66;03m# Parallel loop: we prefer the threading backend as the Cython code\u001b[39;00m\n\u001b[0;32m    484\u001b[0m \u001b[38;5;66;03m# for fitting the trees is internally releasing the Python GIL\u001b[39;00m\n\u001b[0;32m    485\u001b[0m \u001b[38;5;66;03m# making threading more efficient than multiprocessing in\u001b[39;00m\n\u001b[0;32m    486\u001b[0m \u001b[38;5;66;03m# that case. However, for joblib 0.12+ we respect any\u001b[39;00m\n\u001b[0;32m    487\u001b[0m \u001b[38;5;66;03m# parallel_backend contexts set at a higher level,\u001b[39;00m\n\u001b[0;32m    488\u001b[0m \u001b[38;5;66;03m# since correctness does not rely on using threads.\u001b[39;00m\n\u001b[1;32m--> 489\u001b[0m trees \u001b[38;5;241m=\u001b[39m Parallel(\n\u001b[0;32m    490\u001b[0m     n_jobs\u001b[38;5;241m=\u001b[39m\u001b[38;5;28mself\u001b[39m\u001b[38;5;241m.\u001b[39mn_jobs,\n\u001b[0;32m    491\u001b[0m     verbose\u001b[38;5;241m=\u001b[39m\u001b[38;5;28mself\u001b[39m\u001b[38;5;241m.\u001b[39mverbose,\n\u001b[0;32m    492\u001b[0m     prefer\u001b[38;5;241m=\u001b[39m\u001b[38;5;124m\"\u001b[39m\u001b[38;5;124mthreads\u001b[39m\u001b[38;5;124m\"\u001b[39m,\n\u001b[0;32m    493\u001b[0m )(\n\u001b[0;32m    494\u001b[0m     delayed(_parallel_build_trees)(\n\u001b[0;32m    495\u001b[0m         t,\n\u001b[0;32m    496\u001b[0m         \u001b[38;5;28mself\u001b[39m\u001b[38;5;241m.\u001b[39mbootstrap,\n\u001b[0;32m    497\u001b[0m         X,\n\u001b[0;32m    498\u001b[0m         y,\n\u001b[0;32m    499\u001b[0m         sample_weight,\n\u001b[0;32m    500\u001b[0m         i,\n\u001b[0;32m    501\u001b[0m         \u001b[38;5;28mlen\u001b[39m(trees),\n\u001b[0;32m    502\u001b[0m         verbose\u001b[38;5;241m=\u001b[39m\u001b[38;5;28mself\u001b[39m\u001b[38;5;241m.\u001b[39mverbose,\n\u001b[0;32m    503\u001b[0m         class_weight\u001b[38;5;241m=\u001b[39m\u001b[38;5;28mself\u001b[39m\u001b[38;5;241m.\u001b[39mclass_weight,\n\u001b[0;32m    504\u001b[0m         n_samples_bootstrap\u001b[38;5;241m=\u001b[39mn_samples_bootstrap,\n\u001b[0;32m    505\u001b[0m         missing_values_in_feature_mask\u001b[38;5;241m=\u001b[39mmissing_values_in_feature_mask,\n\u001b[0;32m    506\u001b[0m     )\n\u001b[0;32m    507\u001b[0m     \u001b[38;5;28;01mfor\u001b[39;00m i, t \u001b[38;5;129;01min\u001b[39;00m \u001b[38;5;28menumerate\u001b[39m(trees)\n\u001b[0;32m    508\u001b[0m )\n\u001b[0;32m    510\u001b[0m \u001b[38;5;66;03m# Collect newly grown trees\u001b[39;00m\n\u001b[0;32m    511\u001b[0m \u001b[38;5;28mself\u001b[39m\u001b[38;5;241m.\u001b[39mestimators_\u001b[38;5;241m.\u001b[39mextend(trees)\n",
      "File \u001b[1;32mc:\\Users\\rodri\\anaconda3\\Lib\\site-packages\\sklearn\\utils\\parallel.py:74\u001b[0m, in \u001b[0;36mParallel.__call__\u001b[1;34m(self, iterable)\u001b[0m\n\u001b[0;32m     69\u001b[0m config \u001b[38;5;241m=\u001b[39m get_config()\n\u001b[0;32m     70\u001b[0m iterable_with_config \u001b[38;5;241m=\u001b[39m (\n\u001b[0;32m     71\u001b[0m     (_with_config(delayed_func, config), args, kwargs)\n\u001b[0;32m     72\u001b[0m     \u001b[38;5;28;01mfor\u001b[39;00m delayed_func, args, kwargs \u001b[38;5;129;01min\u001b[39;00m iterable\n\u001b[0;32m     73\u001b[0m )\n\u001b[1;32m---> 74\u001b[0m \u001b[38;5;28;01mreturn\u001b[39;00m \u001b[38;5;28msuper\u001b[39m()\u001b[38;5;241m.\u001b[39m\u001b[38;5;21m__call__\u001b[39m(iterable_with_config)\n",
      "File \u001b[1;32mc:\\Users\\rodri\\anaconda3\\Lib\\site-packages\\joblib\\parallel.py:2007\u001b[0m, in \u001b[0;36mParallel.__call__\u001b[1;34m(self, iterable)\u001b[0m\n\u001b[0;32m   2001\u001b[0m \u001b[38;5;66;03m# The first item from the output is blank, but it makes the interpreter\u001b[39;00m\n\u001b[0;32m   2002\u001b[0m \u001b[38;5;66;03m# progress until it enters the Try/Except block of the generator and\u001b[39;00m\n\u001b[0;32m   2003\u001b[0m \u001b[38;5;66;03m# reaches the first `yield` statement. This starts the asynchronous\u001b[39;00m\n\u001b[0;32m   2004\u001b[0m \u001b[38;5;66;03m# dispatch of the tasks to the workers.\u001b[39;00m\n\u001b[0;32m   2005\u001b[0m \u001b[38;5;28mnext\u001b[39m(output)\n\u001b[1;32m-> 2007\u001b[0m \u001b[38;5;28;01mreturn\u001b[39;00m output \u001b[38;5;28;01mif\u001b[39;00m \u001b[38;5;28mself\u001b[39m\u001b[38;5;241m.\u001b[39mreturn_generator \u001b[38;5;28;01melse\u001b[39;00m \u001b[38;5;28mlist\u001b[39m(output)\n",
      "File \u001b[1;32mc:\\Users\\rodri\\anaconda3\\Lib\\site-packages\\joblib\\parallel.py:1650\u001b[0m, in \u001b[0;36mParallel._get_outputs\u001b[1;34m(self, iterator, pre_dispatch)\u001b[0m\n\u001b[0;32m   1647\u001b[0m     \u001b[38;5;28;01myield\u001b[39;00m\n\u001b[0;32m   1649\u001b[0m     \u001b[38;5;28;01mwith\u001b[39;00m \u001b[38;5;28mself\u001b[39m\u001b[38;5;241m.\u001b[39m_backend\u001b[38;5;241m.\u001b[39mretrieval_context():\n\u001b[1;32m-> 1650\u001b[0m         \u001b[38;5;28;01myield from\u001b[39;00m \u001b[38;5;28mself\u001b[39m\u001b[38;5;241m.\u001b[39m_retrieve()\n\u001b[0;32m   1652\u001b[0m \u001b[38;5;28;01mexcept\u001b[39;00m \u001b[38;5;167;01mGeneratorExit\u001b[39;00m:\n\u001b[0;32m   1653\u001b[0m     \u001b[38;5;66;03m# The generator has been garbage collected before being fully\u001b[39;00m\n\u001b[0;32m   1654\u001b[0m     \u001b[38;5;66;03m# consumed. This aborts the remaining tasks if possible and warn\u001b[39;00m\n\u001b[0;32m   1655\u001b[0m     \u001b[38;5;66;03m# the user if necessary.\u001b[39;00m\n\u001b[0;32m   1656\u001b[0m     \u001b[38;5;28mself\u001b[39m\u001b[38;5;241m.\u001b[39m_exception \u001b[38;5;241m=\u001b[39m \u001b[38;5;28;01mTrue\u001b[39;00m\n",
      "File \u001b[1;32mc:\\Users\\rodri\\anaconda3\\Lib\\site-packages\\joblib\\parallel.py:1762\u001b[0m, in \u001b[0;36mParallel._retrieve\u001b[1;34m(self)\u001b[0m\n\u001b[0;32m   1757\u001b[0m \u001b[38;5;66;03m# If the next job is not ready for retrieval yet, we just wait for\u001b[39;00m\n\u001b[0;32m   1758\u001b[0m \u001b[38;5;66;03m# async callbacks to progress.\u001b[39;00m\n\u001b[0;32m   1759\u001b[0m \u001b[38;5;28;01mif\u001b[39;00m ((\u001b[38;5;28mlen\u001b[39m(\u001b[38;5;28mself\u001b[39m\u001b[38;5;241m.\u001b[39m_jobs) \u001b[38;5;241m==\u001b[39m \u001b[38;5;241m0\u001b[39m) \u001b[38;5;129;01mor\u001b[39;00m\n\u001b[0;32m   1760\u001b[0m     (\u001b[38;5;28mself\u001b[39m\u001b[38;5;241m.\u001b[39m_jobs[\u001b[38;5;241m0\u001b[39m]\u001b[38;5;241m.\u001b[39mget_status(\n\u001b[0;32m   1761\u001b[0m         timeout\u001b[38;5;241m=\u001b[39m\u001b[38;5;28mself\u001b[39m\u001b[38;5;241m.\u001b[39mtimeout) \u001b[38;5;241m==\u001b[39m TASK_PENDING)):\n\u001b[1;32m-> 1762\u001b[0m     time\u001b[38;5;241m.\u001b[39msleep(\u001b[38;5;241m0.01\u001b[39m)\n\u001b[0;32m   1763\u001b[0m     \u001b[38;5;28;01mcontinue\u001b[39;00m\n\u001b[0;32m   1765\u001b[0m \u001b[38;5;66;03m# We need to be careful: the job list can be filling up as\u001b[39;00m\n\u001b[0;32m   1766\u001b[0m \u001b[38;5;66;03m# we empty it and Python list are not thread-safe by\u001b[39;00m\n\u001b[0;32m   1767\u001b[0m \u001b[38;5;66;03m# default hence the use of the lock\u001b[39;00m\n",
      "\u001b[1;31mKeyboardInterrupt\u001b[0m: "
     ]
    }
   ],
   "source": [
    "best_features = feature_selection_rfe(X_train_preprocessed, y_train_encoded, params)\n",
    "print(\"🎯 Selected Features:\", best_features)"
   ]
  },
  {
   "cell_type": "code",
   "execution_count": 42,
   "id": "b5ba2aab",
   "metadata": {},
   "outputs": [
    {
     "name": "stdout",
     "output_type": "stream",
     "text": [
      "Max Depth: 5, Features: 14\n",
      "Train F1 (macro): 0.6923\n",
      "Validation F1 (macro): 0.6609\n",
      "Gap (train - val): 0.0313\n",
      "Max Depth: 6, Features: 14\n",
      "Train F1 (macro): 0.7348\n",
      "Validation F1 (macro): 0.7000\n",
      "Gap (train - val): 0.0348\n",
      "Max Depth: 7, Features: 14\n",
      "Train F1 (macro): 0.7668\n",
      "Validation F1 (macro): 0.7265\n",
      "Gap (train - val): 0.0403\n",
      "Max Depth: 8, Features: 14\n",
      "Train F1 (macro): 0.7916\n",
      "Validation F1 (macro): 0.7354\n",
      "Gap (train - val): 0.0563\n",
      "Max Depth: 5, Features: 16\n",
      "Train F1 (macro): 0.7075\n",
      "Validation F1 (macro): 0.6760\n",
      "Gap (train - val): 0.0315\n",
      "Max Depth: 6, Features: 16\n",
      "Train F1 (macro): 0.7483\n",
      "Validation F1 (macro): 0.7072\n",
      "Gap (train - val): 0.0412\n",
      "Max Depth: 7, Features: 16\n",
      "Train F1 (macro): 0.7760\n",
      "Validation F1 (macro): 0.7292\n",
      "Gap (train - val): 0.0468\n",
      "Max Depth: 8, Features: 16\n",
      "Train F1 (macro): 0.7989\n",
      "Validation F1 (macro): 0.7437\n",
      "Gap (train - val): 0.0552\n",
      "Max Depth: 5, Features: 18\n",
      "Train F1 (macro): 0.6971\n",
      "Validation F1 (macro): 0.6673\n",
      "Gap (train - val): 0.0298\n",
      "Max Depth: 6, Features: 18\n",
      "Train F1 (macro): 0.7373\n",
      "Validation F1 (macro): 0.7024\n",
      "Gap (train - val): 0.0349\n",
      "Max Depth: 7, Features: 18\n",
      "Train F1 (macro): 0.7744\n",
      "Validation F1 (macro): 0.7247\n",
      "Gap (train - val): 0.0497\n",
      "Max Depth: 8, Features: 18\n",
      "Train F1 (macro): 0.7958\n",
      "Validation F1 (macro): 0.7376\n",
      "Gap (train - val): 0.0582\n",
      "Max Depth: 5, Features: 20\n",
      "Train F1 (macro): 0.6801\n",
      "Validation F1 (macro): 0.6542\n",
      "Gap (train - val): 0.0258\n",
      "Max Depth: 6, Features: 20\n",
      "Train F1 (macro): 0.7285\n",
      "Validation F1 (macro): 0.6921\n",
      "Gap (train - val): 0.0364\n",
      "Max Depth: 7, Features: 20\n",
      "Train F1 (macro): 0.7657\n",
      "Validation F1 (macro): 0.7181\n",
      "Gap (train - val): 0.0476\n",
      "Max Depth: 8, Features: 20\n",
      "Train F1 (macro): 0.7918\n",
      "Validation F1 (macro): 0.7360\n",
      "Gap (train - val): 0.0559\n",
      "Max Depth: 5, Features: 24\n",
      "Train F1 (macro): 0.6725\n",
      "Validation F1 (macro): 0.6448\n",
      "Gap (train - val): 0.0277\n",
      "Max Depth: 6, Features: 24\n",
      "Train F1 (macro): 0.7140\n",
      "Validation F1 (macro): 0.6757\n",
      "Gap (train - val): 0.0383\n",
      "Max Depth: 7, Features: 24\n",
      "Train F1 (macro): 0.7528\n",
      "Validation F1 (macro): 0.7099\n",
      "Gap (train - val): 0.0429\n",
      "Max Depth: 8, Features: 24\n",
      "Train F1 (macro): 0.7827\n",
      "Validation F1 (macro): 0.7215\n",
      "Gap (train - val): 0.0611\n",
      "Max Depth: 5, Features: 28\n",
      "Train F1 (macro): 0.6758\n",
      "Validation F1 (macro): 0.6479\n",
      "Gap (train - val): 0.0279\n",
      "Max Depth: 6, Features: 28\n",
      "Train F1 (macro): 0.7205\n",
      "Validation F1 (macro): 0.6778\n",
      "Gap (train - val): 0.0426\n",
      "Max Depth: 7, Features: 28\n",
      "Train F1 (macro): 0.7596\n",
      "Validation F1 (macro): 0.7149\n",
      "Gap (train - val): 0.0447\n",
      "Max Depth: 8, Features: 28\n",
      "Train F1 (macro): 0.7872\n",
      "Validation F1 (macro): 0.7223\n",
      "Gap (train - val): 0.0649\n",
      "Max Depth: 5, Features: 32\n",
      "Train F1 (macro): 0.6719\n",
      "Validation F1 (macro): 0.6407\n",
      "Gap (train - val): 0.0312\n",
      "Max Depth: 6, Features: 32\n",
      "Train F1 (macro): 0.7053\n",
      "Validation F1 (macro): 0.6656\n",
      "Gap (train - val): 0.0397\n",
      "Max Depth: 7, Features: 32\n",
      "Train F1 (macro): 0.7399\n",
      "Validation F1 (macro): 0.6932\n",
      "Gap (train - val): 0.0468\n",
      "Max Depth: 8, Features: 32\n",
      "Train F1 (macro): 0.7777\n",
      "Validation F1 (macro): 0.7144\n",
      "Gap (train - val): 0.0634\n",
      "Max Depth: 5, Features: 36\n",
      "Train F1 (macro): 0.6750\n",
      "Validation F1 (macro): 0.6439\n",
      "Gap (train - val): 0.0311\n",
      "Max Depth: 6, Features: 36\n",
      "Train F1 (macro): 0.7158\n",
      "Validation F1 (macro): 0.6743\n",
      "Gap (train - val): 0.0415\n",
      "Max Depth: 7, Features: 36\n",
      "Train F1 (macro): 0.7481\n",
      "Validation F1 (macro): 0.7007\n",
      "Gap (train - val): 0.0474\n",
      "Max Depth: 8, Features: 36\n",
      "Train F1 (macro): 0.7845\n",
      "Validation F1 (macro): 0.7267\n",
      "Gap (train - val): 0.0579\n",
      "🎯 Selected Features: ['age', 'duration', 'campaign', 'pdays', 'emp.var.rate', 'cons.price.idx', 'cons.conf.idx', 'euribor3m', 'nr.employed', 'emp_rate_x_employed', 'contact_month_num', 'contact_efficiency', 'economic_pressure_index', 'contacted_before', 'successful_prev_contact', 'poutcome_success']\n"
     ]
    }
   ],
   "source": [
    "### tweaking feats\n",
    "best_features = feature_selection_rfe(X_train_preprocessed, y_train_encoded, params)\n",
    "print(\"🎯 Selected Features:\", best_features)"
   ]
  },
  {
   "cell_type": "markdown",
   "id": "19b41b75",
   "metadata": {},
   "source": [
    "# ANALYSIS OF OUTPUTS OF NODE.PY FROM FEATURE SELECTION - UNIFY FINAL LIST OF FEATURES"
   ]
  },
  {
   "cell_type": "code",
   "execution_count": 6,
   "id": "03dcedfc",
   "metadata": {},
   "outputs": [],
   "source": [
    "import pickle\n",
    "\n",
    "def load_features(file_path):\n",
    "    with open(file_path, \"rb\") as f:\n",
    "        return pickle.load(f)\n",
    "\n",
    "rfe_features = load_features(\"../data/04_feature/rfe_selected_features.pkl\")\n",
    "chi2_features = load_features(\"../data/04_feature/chi2_selected_features.pkl\")\n",
    "boruta_features = load_features(\"../data/04_feature/boruta_selected_features.pkl\")\n",
    "var_threshold_features = load_features(\"../data/04_feature/variance_threshold_selected_features.pkl\")"
   ]
  },
  {
   "cell_type": "code",
   "execution_count": 7,
   "id": "0b0c4d9b",
   "metadata": {},
   "outputs": [
    {
     "name": "stdout",
     "output_type": "stream",
     "text": [
      "RFE: 19\n",
      "Chi2: 44\n",
      "Boruta: 14\n",
      "Variance Threshold: 60\n",
      "Common Features Across All Methods (11):\n",
      " {'is_student_or_retired', 'default', 'cpi_top_value_92.893', 'cpi_top_value_93.994', 'cci_top_value', 'age_binned_quantile_3.0', 'poutcome_failure', 'euribor3m', 'nr.employed', 'pdays', 'successful_prev_contact'}\n"
     ]
    }
   ],
   "source": [
    "\n",
    "print(\"RFE:\", len(rfe_features))\n",
    "print(\"Chi2:\", len(chi2_features))\n",
    "print(\"Boruta:\", len(boruta_features))\n",
    "print(\"Variance Threshold:\", len(var_threshold_features))\n",
    "\n",
    "\n",
    "common_features = set(rfe_features) & set(chi2_features) & set(boruta_features) & set(var_threshold_features)\n",
    "print(f\"Common Features Across All Methods ({len(common_features)}):\\n\", common_features)\n",
    "\n"
   ]
  },
  {
   "cell_type": "markdown",
   "id": "a503d313",
   "metadata": {},
   "source": [
    "## RFE PICKS:"
   ]
  },
  {
   "cell_type": "code",
   "execution_count": 8,
   "id": "f446c92f",
   "metadata": {},
   "outputs": [
    {
     "name": "stdout",
     "output_type": "stream",
     "text": [
      "['age', 'pdays', 'previous', 'emp.var.rate', 'cons.price.idx', 'cons.conf.idx', 'euribor3m', 'nr.employed', 'default', 'senior_housing_loan', 'is_student_or_retired', 'successful_prev_contact', 'cci_top_value', 'poutcome_failure', 'age_binned_quantile_2.0', 'age_binned_quantile_3.0', 'cpi_top_value_92.893', 'cpi_top_value_93.994', 'euribor_bin_high']\n"
     ]
    }
   ],
   "source": [
    "print((rfe_features))"
   ]
  },
  {
   "cell_type": "markdown",
   "id": "0600c04a",
   "metadata": {},
   "source": [
    "## CHI2 "
   ]
  },
  {
   "cell_type": "code",
   "execution_count": 9,
   "id": "8baf3616",
   "metadata": {},
   "outputs": [
    {
     "name": "stdout",
     "output_type": "stream",
     "text": [
      "['age', 'campaign', 'pdays', 'previous', 'euribor3m', 'nr.employed', 'loan_risk_score', 'economic_pressure_index', 'default', 'cpi_above_75th', 'cci_above_75th', 'young_housing_loan', 'middle_aged_housing_loan', 'senior_housing_loan', 'young_loan', 'middle_aged_loan', 'senior_loan', 'contacted_before', 'is_student_or_retired', 'successful_prev_contact', 'cci_top_value', 'marital_married', 'marital_single', 'poutcome_failure', 'poutcome_nonexistent', 'poutcome_success', 'age_binned_quantile_0.0', 'age_binned_quantile_2.0', 'age_binned_quantile_3.0', 'age_binned_quantile_4.0', 'previous_bin_0', 'previous_bin_1', 'previous_bin_2', 'previous_bin_3', 'cpi_top_value_92.893', 'cpi_top_value_93.918', 'cpi_top_value_93.994', 'cpi_top_value_other', 'euribor_bin_high', 'euribor_bin_low', 'euribor_bin_very_high', 'euribor_bin_very_low', 'education_mapped_basic_education', 'education_mapped_higher_education']\n"
     ]
    }
   ],
   "source": [
    "print(chi2_features)"
   ]
  },
  {
   "cell_type": "markdown",
   "id": "df7cebba",
   "metadata": {},
   "source": [
    "## BORUTA"
   ]
  },
  {
   "cell_type": "code",
   "execution_count": 10,
   "id": "fe97f96d",
   "metadata": {},
   "outputs": [
    {
     "name": "stdout",
     "output_type": "stream",
     "text": [
      "['pdays', 'emp.var.rate', 'cons.price.idx', 'cons.conf.idx', 'euribor3m', 'nr.employed', 'default', 'is_student_or_retired', 'successful_prev_contact', 'cci_top_value', 'poutcome_failure', 'age_binned_quantile_3.0', 'cpi_top_value_92.893', 'cpi_top_value_93.994']\n"
     ]
    }
   ],
   "source": [
    "print(boruta_features)"
   ]
  },
  {
   "cell_type": "code",
   "execution_count": 13,
   "id": "50adaa53",
   "metadata": {},
   "outputs": [
    {
     "name": "stdout",
     "output_type": "stream",
     "text": [
      "Feature age is not selected by Boruta.\n",
      "Feature previous is not selected by Boruta.\n",
      "Feature senior_housing_loan is not selected by Boruta.\n",
      "Feature age_binned_quantile_2.0 is not selected by Boruta.\n",
      "Feature euribor_bin_high is not selected by Boruta.\n"
     ]
    }
   ],
   "source": [
    "for col in rfe_features:\n",
    "    if col not in boruta_features:\n",
    "        print(f\"Feature {col} is not selected by Boruta.\")"
   ]
  },
  {
   "cell_type": "markdown",
   "id": "2b18ce94",
   "metadata": {},
   "source": [
    "These were the 5 features not selected by boruta"
   ]
  },
  {
   "cell_type": "code",
   "execution_count": 14,
   "id": "e1d21e4c",
   "metadata": {},
   "outputs": [],
   "source": [
    "for col in boruta_features:\n",
    "    if col not in rfe_features:\n",
    "        print(f\"Feature {col} is not selected by Boruta.\")"
   ]
  },
  {
   "cell_type": "markdown",
   "id": "28a85177",
   "metadata": {},
   "source": [
    "## VAR"
   ]
  },
  {
   "cell_type": "code",
   "execution_count": 11,
   "id": "63d2b7ab",
   "metadata": {},
   "outputs": [
    {
     "name": "stdout",
     "output_type": "stream",
     "text": [
      "['age', 'campaign', 'pdays', 'previous', 'emp.var.rate', 'cons.price.idx', 'cons.conf.idx', 'euribor3m', 'nr.employed', 'emp_rate_x_employed', 'loan_risk_score', 'economic_pressure_index', 'default', 'housing', 'loan', 'cpi_above_75th', 'cci_above_75th', 'young_housing_loan', 'middle_aged_housing_loan', 'senior_housing_loan', 'young_loan', 'middle_aged_loan', 'senior_loan', 'contacted_before', 'is_student_or_retired', 'successful_prev_contact', 'has_any_loan', 'job', 'education', 'campaign_bin', 'cci_top_value', 'marital_edu_combo', 'marital_divorced', 'marital_married', 'marital_single', 'marital_unknown', 'poutcome_failure', 'poutcome_nonexistent', 'poutcome_success', 'age_binned_quantile_0.0', 'age_binned_quantile_1.0', 'age_binned_quantile_2.0', 'age_binned_quantile_3.0', 'age_binned_quantile_4.0', 'previous_bin_0', 'previous_bin_1', 'previous_bin_2', 'previous_bin_3', 'cpi_top_value_92.893', 'cpi_top_value_93.918', 'cpi_top_value_93.994', 'cpi_top_value_other', 'euribor_bin_high', 'euribor_bin_low', 'euribor_bin_very_high', 'euribor_bin_very_low', 'education_mapped_basic_education', 'education_mapped_high_school', 'education_mapped_higher_education', 'education_mapped_low_or_unknown']\n"
     ]
    }
   ],
   "source": [
    "print(var_threshold_features)"
   ]
  },
  {
   "cell_type": "code",
   "execution_count": 12,
   "id": "6e28ba68",
   "metadata": {},
   "outputs": [],
   "source": [
    "for col in X_train_preprocessed.columns:\n",
    "    if col not in var_threshold_features:\n",
    "        print(f\"Feature {col} is not selected by any method.\")\n"
   ]
  },
  {
   "cell_type": "markdown",
   "id": "fae8f300",
   "metadata": {},
   "source": [
    "- there wer no features with variance = 0"
   ]
  },
  {
   "cell_type": "markdown",
   "id": "c455afd0",
   "metadata": {},
   "source": [
    "## FINAL SET OF FEATURES:"
   ]
  },
  {
   "cell_type": "markdown",
   "id": "a9c07cbd",
   "metadata": {},
   "source": [
    "- should contain all features from boruta and rfe"
   ]
  },
  {
   "cell_type": "markdown",
   "id": "06b5662d",
   "metadata": {},
   "source": [
    "- variance threshold did not eliminate any features"
   ]
  },
  {
   "cell_type": "markdown",
   "id": "34f34ab0",
   "metadata": {},
   "source": [
    "- chi-2: 44 features chosen, we can cross check with rfe and boruta"
   ]
  },
  {
   "cell_type": "code",
   "execution_count": 17,
   "id": "bce8a0e0",
   "metadata": {},
   "outputs": [
    {
     "name": "stdout",
     "output_type": "stream",
     "text": [
      "Feature campaign is not selected by RFE.\n",
      "Feature loan_risk_score is not selected by RFE.\n",
      "Feature economic_pressure_index is not selected by RFE.\n",
      "Feature cpi_above_75th is not selected by RFE.\n",
      "Feature cci_above_75th is not selected by RFE.\n",
      "Feature young_housing_loan is not selected by RFE.\n",
      "Feature middle_aged_housing_loan is not selected by RFE.\n",
      "Feature young_loan is not selected by RFE.\n",
      "Feature middle_aged_loan is not selected by RFE.\n",
      "Feature senior_loan is not selected by RFE.\n",
      "Feature contacted_before is not selected by RFE.\n",
      "Feature campaign_bin is not selected by RFE.\n",
      "Feature marital_married is not selected by RFE.\n",
      "Feature marital_single is not selected by RFE.\n",
      "Feature poutcome_nonexistent is not selected by RFE.\n",
      "Feature poutcome_success is not selected by RFE.\n",
      "Feature age_binned_quantile_0.0 is not selected by RFE.\n",
      "Feature age_binned_quantile_4.0 is not selected by RFE.\n",
      "Feature previous_bin_0 is not selected by RFE.\n",
      "Feature previous_bin_1 is not selected by RFE.\n",
      "Feature previous_bin_2 is not selected by RFE.\n",
      "Feature previous_bin_3 is not selected by RFE.\n",
      "Feature cpi_top_value_93.918 is not selected by RFE.\n",
      "Feature cpi_top_value_other is not selected by RFE.\n",
      "Feature euribor_bin_low is not selected by RFE.\n",
      "Feature euribor_bin_very_high is not selected by RFE.\n",
      "Feature euribor_bin_very_low is not selected by RFE.\n",
      "Feature education_mapped_basic_education is not selected by RFE.\n",
      "Feature education_mapped_higher_education is not selected by RFE.\n",
      "Feature education_mapped_low_or_unknown is not selected by RFE.\n",
      "Number of features not selected by RFE: 27\n"
     ]
    }
   ],
   "source": [
    "for col in chi2_features:\n",
    "    if col not in rfe_features:\n",
    "        print(f\"Feature {col} is not selected by RFE.\")\n",
    "print(\"Number of features not selected by RFE:\", len(chi2_features) - len(rfe_features))"
   ]
  },
  {
   "cell_type": "markdown",
   "id": "c177b748",
   "metadata": {},
   "source": [
    "- We can try for now include all features chosen from rfe and boruta and those selected by chi2"
   ]
  },
  {
   "cell_type": "code",
   "execution_count": 17,
   "id": "8af5b307",
   "metadata": {},
   "outputs": [
    {
     "data": {
      "text/plain": [
       "['age',\n",
       " 'pdays',\n",
       " 'previous',\n",
       " 'emp.var.rate',\n",
       " 'cons.price.idx',\n",
       " 'cons.conf.idx',\n",
       " 'euribor3m',\n",
       " 'nr.employed',\n",
       " 'default',\n",
       " 'senior_housing_loan',\n",
       " 'is_student_or_retired',\n",
       " 'successful_prev_contact',\n",
       " 'cci_top_value',\n",
       " 'poutcome_failure',\n",
       " 'age_binned_quantile_2.0',\n",
       " 'age_binned_quantile_3.0',\n",
       " 'cpi_top_value_92.893',\n",
       " 'cpi_top_value_93.994',\n",
       " 'euribor_bin_high']"
      ]
     },
     "execution_count": 17,
     "metadata": {},
     "output_type": "execute_result"
    }
   ],
   "source": [
    "rfe_features"
   ]
  },
  {
   "cell_type": "code",
   "execution_count": 18,
   "id": "caf2c637",
   "metadata": {},
   "outputs": [
    {
     "data": {
      "text/plain": [
       "['age',\n",
       " 'campaign',\n",
       " 'pdays',\n",
       " 'previous',\n",
       " 'euribor3m',\n",
       " 'nr.employed',\n",
       " 'loan_risk_score',\n",
       " 'economic_pressure_index',\n",
       " 'default',\n",
       " 'cpi_above_75th',\n",
       " 'cci_above_75th',\n",
       " 'young_housing_loan',\n",
       " 'middle_aged_housing_loan',\n",
       " 'senior_housing_loan',\n",
       " 'young_loan',\n",
       " 'middle_aged_loan',\n",
       " 'senior_loan',\n",
       " 'contacted_before',\n",
       " 'is_student_or_retired',\n",
       " 'successful_prev_contact',\n",
       " 'cci_top_value',\n",
       " 'marital_married',\n",
       " 'marital_single',\n",
       " 'poutcome_failure',\n",
       " 'poutcome_nonexistent',\n",
       " 'poutcome_success',\n",
       " 'age_binned_quantile_0.0',\n",
       " 'age_binned_quantile_2.0',\n",
       " 'age_binned_quantile_3.0',\n",
       " 'age_binned_quantile_4.0',\n",
       " 'previous_bin_0',\n",
       " 'previous_bin_1',\n",
       " 'previous_bin_2',\n",
       " 'previous_bin_3',\n",
       " 'cpi_top_value_92.893',\n",
       " 'cpi_top_value_93.918',\n",
       " 'cpi_top_value_93.994',\n",
       " 'cpi_top_value_other',\n",
       " 'euribor_bin_high',\n",
       " 'euribor_bin_low',\n",
       " 'euribor_bin_very_high',\n",
       " 'euribor_bin_very_low',\n",
       " 'education_mapped_basic_education',\n",
       " 'education_mapped_higher_education']"
      ]
     },
     "execution_count": 18,
     "metadata": {},
     "output_type": "execute_result"
    }
   ],
   "source": [
    "chi2_features"
   ]
  },
  {
   "cell_type": "code",
   "execution_count": 22,
   "id": "b841191c",
   "metadata": {},
   "outputs": [
    {
     "name": "stdout",
     "output_type": "stream",
     "text": [
      "Final Set of Features: ['is_student_or_retired', 'cpi_top_value_92.893', 'poutcome_success', 'cci_top_value', 'marital_single', 'previous_bin_1', 'age', 'age_binned_quantile_0.0', 'education_mapped_basic_education', 'poutcome_nonexistent', 'middle_aged_housing_loan', 'previous_bin_0', 'previous', 'euribor_bin_high', 'emp.var.rate', 'age_binned_quantile_4.0', 'cpi_top_value_93.994', 'cpi_top_value_93.918', 'euribor_bin_very_high', 'loan_risk_score', 'nr.employed', 'education_mapped_higher_education', 'cons.conf.idx', 'pdays', 'successful_prev_contact', 'senior_loan', 'age_binned_quantile_2.0', 'senior_housing_loan', 'cci_above_75th', 'young_housing_loan', 'euribor_bin_very_low', 'young_loan', 'middle_aged_loan', 'contacted_before', 'default', 'euribor_bin_low', 'age_binned_quantile_3.0', 'campaign', 'cpi_above_75th', 'previous_bin_3', 'poutcome_failure', 'marital_married', 'euribor3m', 'economic_pressure_index', 'previous_bin_2', 'cons.price.idx', 'cpi_top_value_other']\n",
      "Number of features in final set: 47\n",
      "Duplicate Features (in both): ['is_student_or_retired', 'previous', 'euribor_bin_high', 'age_binned_quantile_2.0', 'cpi_top_value_92.893', 'cpi_top_value_93.994', 'senior_housing_loan', 'cci_top_value', 'default', 'age_binned_quantile_3.0', 'poutcome_failure', 'euribor3m', 'nr.employed', 'age', 'pdays', 'successful_prev_contact']\n"
     ]
    }
   ],
   "source": [
    "final_set = list(set(rfe_features) | set(chi2_features))\n",
    "dupes = list(set(rfe_features) & set(chi2_features))\n",
    "\n",
    "print(\"Final Set of Features:\", final_set)\n",
    "print(\"Number of features in final set:\", len(final_set))\n",
    "print(\"Duplicate Features (in both):\", dupes)\n"
   ]
  },
  {
   "cell_type": "code",
   "execution_count": 23,
   "id": "8ad2bdc6",
   "metadata": {},
   "outputs": [
    {
     "data": {
      "text/plain": [
       "['is_student_or_retired',\n",
       " 'cpi_top_value_92.893',\n",
       " 'poutcome_success',\n",
       " 'cci_top_value',\n",
       " 'marital_single',\n",
       " 'previous_bin_1',\n",
       " 'age',\n",
       " 'age_binned_quantile_0.0',\n",
       " 'education_mapped_basic_education',\n",
       " 'poutcome_nonexistent',\n",
       " 'middle_aged_housing_loan',\n",
       " 'previous_bin_0',\n",
       " 'previous',\n",
       " 'euribor_bin_high',\n",
       " 'emp.var.rate',\n",
       " 'age_binned_quantile_4.0',\n",
       " 'cpi_top_value_93.994',\n",
       " 'cpi_top_value_93.918',\n",
       " 'euribor_bin_very_high',\n",
       " 'loan_risk_score',\n",
       " 'nr.employed',\n",
       " 'education_mapped_higher_education',\n",
       " 'cons.conf.idx',\n",
       " 'pdays',\n",
       " 'successful_prev_contact',\n",
       " 'senior_loan',\n",
       " 'age_binned_quantile_2.0',\n",
       " 'senior_housing_loan',\n",
       " 'cci_above_75th',\n",
       " 'young_housing_loan',\n",
       " 'euribor_bin_very_low',\n",
       " 'young_loan',\n",
       " 'middle_aged_loan',\n",
       " 'contacted_before',\n",
       " 'default',\n",
       " 'euribor_bin_low',\n",
       " 'age_binned_quantile_3.0',\n",
       " 'campaign',\n",
       " 'cpi_above_75th',\n",
       " 'previous_bin_3',\n",
       " 'poutcome_failure',\n",
       " 'marital_married',\n",
       " 'euribor3m',\n",
       " 'economic_pressure_index',\n",
       " 'previous_bin_2',\n",
       " 'cons.price.idx',\n",
       " 'cpi_top_value_other']"
      ]
     },
     "execution_count": 23,
     "metadata": {},
     "output_type": "execute_result"
    }
   ],
   "source": [
    "final_set"
   ]
  },
  {
   "cell_type": "code",
   "execution_count": 25,
   "id": "9aac86d0",
   "metadata": {},
   "outputs": [],
   "source": [
    "with open(\"../data/04_feature/final_selected_features.pkl\", \"wb\") as f:\n",
    "    pickle.dump(final_set, f)"
   ]
  }
 ],
 "metadata": {
  "kernelspec": {
   "display_name": "mlops",
   "language": "python",
   "name": "python3"
  },
  "language_info": {
   "codemirror_mode": {
    "name": "ipython",
    "version": 3
   },
   "file_extension": ".py",
   "mimetype": "text/x-python",
   "name": "python",
   "nbconvert_exporter": "python",
   "pygments_lexer": "ipython3",
   "version": "3.11.12"
  }
 },
 "nbformat": 4,
 "nbformat_minor": 5
}
